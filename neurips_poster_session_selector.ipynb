{
 "nbformat": 4,
 "nbformat_minor": 0,
 "metadata": {
  "colab": {
   "provenance": [],
   "toc_visible": true
  },
  "kernelspec": {
   "name": "python3",
   "display_name": "Python 3"
  },
  "language_info": {
   "name": "python"
  }
 },
 "cells": [
  {
   "cell_type": "markdown",
   "source": [
    "## 1. Dependency Management and Setup"
   ],
   "metadata": {
    "id": "WpXqIU1DmlQw"
   }
  },
  {
   "cell_type": "code",
   "source": [
    "!pip install openai"
   ],
   "metadata": {
    "id": "KgaJmFMq0431"
   },
   "execution_count": null,
   "outputs": []
  },
  {
   "cell_type": "code",
   "execution_count": null,
   "metadata": {
    "id": "ULAibRih0zga"
   },
   "outputs": [],
   "source": [
    "from bs4 import BeautifulSoup\n",
    "import requests\n",
    "import openai\n",
    "import pandas as pd\n",
    "from openai import OpenAI\n",
    "import json\n",
    "import os"
   ]
  },
  {
   "cell_type": "code",
   "source": [
    "# Replace 'your_api_key_here' with your actual OpenAI API key\n",
    "os.environ['OPENAI_API_KEY'] = 'your_api_key_here'"
   ],
   "metadata": {
    "id": "HSv-BxXE3bpt"
   },
   "execution_count": null,
   "outputs": []
  },
  {
   "cell_type": "code",
   "source": [
    "# Set max column width to None for no truncation\n",
    "pd.set_option('display.max_colwidth', None)\n",
    "\n",
    "# Set the total display width\n",
    "pd.set_option('display.width', None)"
   ],
   "metadata": {
    "id": "HIhKi5FlWx2R"
   },
   "execution_count": null,
   "outputs": []
  },
  {
   "cell_type": "markdown",
   "source": [
    "## 2. (Optional) File Handling and Web Scraping\n",
    "This part is used to parse HTML into CSV. Skip this step if you have \"session_5.csv\", or \"session_6.csv\" in the folder. If not, go to Neurips poster session page (e.g. [Poster session 5](https://nips.cc/virtual/2023/session/74073)), right click save to download the html page."
   ],
   "metadata": {
    "id": "IUFw5oeNnCHn"
   }
  },
  {
   "cell_type": "code",
   "source": [
    "def open_file(path):\n",
    "  with open(path, 'r') as file:\n",
    "      return file.read()\n",
    "\n",
    "def get_titles(soup, posters):\n",
    "  h5_tag = soup.find_all('h5')\n",
    "  for i in range(1,len(h5_tag)):\n",
    "      this_tag = h5_tag[i]\n",
    "      title = this_tag.get_text(strip=True)\n",
    "      posters[i] = {}\n",
    "      posters[i][\"title\"] = title\n",
    "  return posters\n",
    "\n",
    "def get_abstract_and_position(soup, posters):\n",
    "  abstract_tags = soup.find_all(class_='abstract')\n",
    "  poster_position_tags = soup.find_all('div', title='Poster Position')\n",
    "\n",
    "  for j in range(len(abstract_tags)):\n",
    "      tag = abstract_tags[j]\n",
    "      abstract = tag.get_text(strip=True)\n",
    "      posters[j+1][\"abstract\"] = abstract\n",
    "      poster_position = poster_position_tags[j].get_text(strip=True)\n",
    "      posters[j + 1][\"position\"] = poster_position[1:]\n",
    "  return posters\n",
    "\n",
    "def get_posters(path):\n",
    "  html_content = open_file(path)\n",
    "  soup = BeautifulSoup(html_content, 'lxml')\n",
    "  posters = {}\n",
    "  posters = get_titles(soup = soup, posters = posters)\n",
    "  posters = get_abstract_and_position(soup = soup, posters = posters)\n",
    "  return pd.DataFrame.from_dict(posters, orient='index')"
   ],
   "metadata": {
    "id": "17oWATwi1qGP"
   },
   "execution_count": null,
   "outputs": []
  },
  {
   "cell_type": "code",
   "source": [
    "path = \"/content/session_6.html\"\n",
    "df = get_posters(path).reset_index(drop=True)\n",
    "df.to_csv(\"session_6.csv\", index=False)"
   ],
   "metadata": {
    "id": "7Cn9893W1sd6"
   },
   "execution_count": null,
   "outputs": []
  },
  {
   "cell_type": "markdown",
   "source": [
    "## 3. Get summary, score and keywords from API"
   ],
   "metadata": {
    "id": "5XoqQpRiqed1"
   }
  },
  {
   "cell_type": "code",
   "source": [
    "csv_path = \"/content/session_6.csv\"\n",
    "df = pd.read_csv(csv_path)\n",
    "posters = df.to_dict(orient='index')"
   ],
   "metadata": {
    "id": "-eLNotgmpiEf"
   },
   "execution_count": null,
   "outputs": []
  },
  {
   "cell_type": "markdown",
   "source": [
    "### Modify the following prompt according to your interests\n",
    "This will be used to evaluate whether a paper is relevant to your interest area or not. The response also contains a relecancy score from 0 to 10, 0 means not relevant at all, 10 means very relevant."
   ],
   "metadata": {
    "id": "rZhPC8nHsYxi"
   }
  },
  {
   "cell_type": "code",
   "source": [
    "# interests_prompt = \"keyword 1, keyword 2, keyword 3...\""
   ],
   "metadata": {
    "id": "lD_hFW95sN0f"
   },
   "execution_count": null,
   "outputs": []
  },
  {
   "cell_type": "code",
   "source": [
    "# Keep the format prompt, no change needed\n",
    "format_prompt = \"\"\"Follow the instructions as precisely as possible. Every time you receive input in this json format: {{\"title\": \"Awesome paper title\", \"abstract\": \"Awesome paper abstract text\"}}I want you to provide summary, keywords and score following json format in plain text. Never provide additional context. {{\"summary\": \"This is one sentence summary about this paper explained in simple words.\",\"keywords\": [\"keyword1\", \"keyword2\", \"keyword3\", ..., \"keywordn\"],\"score\": 10}}\"\"\"\n",
    "\n",
    "client = OpenAI()\n",
    "def api_call(client, title, description):\n",
    "  completion = client.chat.completions.create(\n",
    "    model=\"gpt-3.5-turbo\",\n",
    "    messages=[\n",
    "      {\"role\": \"system\", \"content\": \"As a machine learning expert, your task is to distill key information from NeuRIPS 2023 poster sessions for students. For each poster: Craft a one-sentence summary that encapsulates the primary research focus using simple, easy-to-understand words. If it's related to any specific domain knowledge, explain in simple terms but keep concise. Identify five pertinent keywords associated with the research. Assign a score between 1 to 10, reflecting how well the research aligns with the student's interests in \" + interests_prompt + \". A score of 10 denotes high relevance and exceptional quality, whereas a score of 1 indicates minimal relevance which has none or little overlapping with student's insterests. Adopt a critical and discerning approach when assigning scores; avoid indiscriminately high ratings. Only rate 10 when a paper covers every interest. The evaluation should guide students towards posters that are most relevant to their specified interests, aiding in their academic pursuits.\"},\n",
    "      {\"role\": \"user\", \"content\": \"Poster's title: \"+ title + \"Abstract: \"+ description + \" \" + format_prompt}\n",
    "    ]\n",
    "  )\n",
    "  return completion.choices[0].message.content"
   ],
   "metadata": {
    "id": "IxPe2SVi2mUf"
   },
   "execution_count": null,
   "outputs": []
  },
  {
   "cell_type": "code",
   "source": [
    "def validate_and_return_json(s):\n",
    "    try:\n",
    "        data = json.loads(s)\n",
    "    except json.JSONDecodeError:\n",
    "        return False\n",
    "\n",
    "    if not all(key in data for key in [\"summary\", \"keywords\", \"score\"]):\n",
    "        return False\n",
    "\n",
    "    if not isinstance(data[\"summary\"], str):\n",
    "        return False\n",
    "\n",
    "    if not (isinstance(data[\"keywords\"], list) and all(isinstance(k, str) for k in data[\"keywords\"])):\n",
    "        return False\n",
    "\n",
    "    if not isinstance(data[\"score\"], int):\n",
    "        return False\n",
    "\n",
    "    return json.dumps(data)"
   ],
   "metadata": {
    "id": "zgPAEbEn9G2m"
   },
   "execution_count": null,
   "outputs": []
  },
  {
   "cell_type": "code",
   "source": [
    "def validated_api_call(client, title, abstract):\n",
    "    max_attempts = 3\n",
    "    for attempt in range(max_attempts):\n",
    "        try:\n",
    "            response = api_call(client, title, abstract)\n",
    "            validation_result = validate_and_return_json(response)\n",
    "            if validation_result:\n",
    "                validated_data = json.loads(validation_result)\n",
    "                return validated_data[\"summary\"], validated_data[\"keywords\"], validated_data[\"score\"]\n",
    "        except Exception as e:\n",
    "            print(f\"An error occurred: {e}\")\n",
    "    return None"
   ],
   "metadata": {
    "id": "1dO_3U7UA2Cs"
   },
   "execution_count": null,
   "outputs": []
  },
  {
   "cell_type": "code",
   "source": [
    "annotated_posters={}\n",
    "i = 0\n",
    "while i <= (len(posters)-1):\n",
    "    title = posters[i]['title']\n",
    "    position = posters[i]['position']\n",
    "    abstract = posters[i][\"abstract\"]\n",
    "    response = validated_api_call(client, title, abstract)\n",
    "    posters[i]['summary'] = response\n",
    "    annotated_posters[i] = {}\n",
    "    annotated_posters[i][\"title\"] = title\n",
    "    annotated_posters[i][\"position\"] = position\n",
    "    annotated_posters[i][\"abstract\"] = abstract\n",
    "    if response:\n",
    "      annotated_posters[i][\"summary\"] = response[0]\n",
    "      annotated_posters[i][\"keywords\"] = response[1]\n",
    "      annotated_posters[i][\"score\"] = response[2]\n",
    "    else:\n",
    "      annotated_posters[i][\"summary\"] = None\n",
    "      annotated_posters[i][\"keywords\"] = []\n",
    "      annotated_posters[i][\"score\"] = None\n",
    "    print(posters[i])\n",
    "    i += 1"
   ],
   "metadata": {
    "id": "aRqVIRsf2jsO"
   },
   "execution_count": null,
   "outputs": []
  },
  {
   "cell_type": "code",
   "source": [
    "df_annotated = pd.DataFrame.from_dict(annotated_posters, orient='index').sort_index()"
   ],
   "metadata": {
    "id": "g8xvAJgBG8ax"
   },
   "execution_count": null,
   "outputs": []
  },
  {
   "cell_type": "code",
   "source": [
    "df_annotated.to_csv(\"annotated_posters.csv\")"
   ],
   "metadata": {
    "id": "Vq7aud6PJy6c"
   },
   "execution_count": null,
   "outputs": []
  },
  {
   "cell_type": "markdown",
   "source": [
    "## 4. Review relevant papers"
   ],
   "metadata": {
    "id": "Gb3DmOcNuOGc"
   }
  },
  {
   "cell_type": "code",
   "source": [
    "def get_ranked_papers(df, threshold):\n",
    "  df_annotated_noab = df[['title','position','summary','keywords','score']].dropna(subset=['score'])\n",
    "  df_annotated_noab['score'] = df_annotated_noab['score'].astype('int')\n",
    "  df_annotated_noab_high = df_annotated_noab[df_annotated_noab['score'] >= threshold]\n",
    "  df_annotated_noab_high = df_annotated_noab_high.sort_values(by=['score'], ascending=False)\n",
    "  return df_annotated_noab_high"
   ],
   "metadata": {
    "id": "MyEzqiKKwxsm"
   },
   "execution_count": null,
   "outputs": []
  },
  {
   "cell_type": "code",
   "source": [
    "# Modify the threshold to filter the papers\n",
    "threshold = 9\n",
    "df_ranked = get_ranked_papers(df_annotated, threshold)\n",
    "df_ranked.head()"
   ],
   "metadata": {
    "id": "thQjIAn6WWo2",
    "colab": {
     "base_uri": "https://localhost:8080/",
     "height": 334
    },
    "outputId": "c14d6441-a863-44cf-aaab-0a2a9c1928c1"
   },
   "execution_count": null,
   "outputs": [
    {
     "output_type": "execute_result",
     "data": {
      "text/plain": [
       "                                                                                    title  \\\n",
       "0                  Sample-efficient Multi-objective Molecular Optimization with GFlowNets   \n",
       "3                     Uncovering Neural Scaling Laws in Molecular Representation Learning   \n",
       "4  ProteinShake: Building datasets and benchmarks for deep learning on protein structures   \n",
       "\n",
       "   position  \\\n",
       "0       100   \n",
       "3       104   \n",
       "4       105   \n",
       "\n",
       "                                                                                                                                                                                                                                summary  \\\n",
       "0                                               This research focuses on developing a method for optimizing molecular structures with desired properties by considering multiple objectives and efficiently exploring the search space.   \n",
       "3  This paper explores the relationship between data quantity and quality on molecular representation learning (MRL) in drug and materials discovery, identifying scaling laws and potential avenues for improving learning efficiency.   \n",
       "4                        ProteinShake is a software package that simplifies dataset creation and evaluation for deep learning on protein structures, providing benchmarks and datasets to improve performance in biology-related tasks.   \n",
       "\n",
       "                                                                                                                          keywords  \\\n",
       "0                  [molecular optimization, multi-objective optimization, hypernetworks, Bayesian optimization, sample efficiency]   \n",
       "3  [molecular representation learning, data quantity and quality, scaling laws, learning efficiency, drug and materials discovery]   \n",
       "4                                                   [ProteinShake, deep learning, dataset creation, protein structures, benchmark]   \n",
       "\n",
       "   score  \n",
       "0      7  \n",
       "3      7  \n",
       "4      7  "
      ],
      "text/html": [
       "\n",
       "  <div id=\"df-adeae7b6-0485-446c-8dc5-e38499e96bf1\" class=\"colab-df-container\">\n",
       "    <div>\n",
       "<style scoped>\n",
       "    .dataframe tbody tr th:only-of-type {\n",
       "        vertical-align: middle;\n",
       "    }\n",
       "\n",
       "    .dataframe tbody tr th {\n",
       "        vertical-align: top;\n",
       "    }\n",
       "\n",
       "    .dataframe thead th {\n",
       "        text-align: right;\n",
       "    }\n",
       "</style>\n",
       "<table border=\"1\" class=\"dataframe\">\n",
       "  <thead>\n",
       "    <tr style=\"text-align: right;\">\n",
       "      <th></th>\n",
       "      <th>title</th>\n",
       "      <th>position</th>\n",
       "      <th>summary</th>\n",
       "      <th>keywords</th>\n",
       "      <th>score</th>\n",
       "    </tr>\n",
       "  </thead>\n",
       "  <tbody>\n",
       "    <tr>\n",
       "      <th>0</th>\n",
       "      <td>Sample-efficient Multi-objective Molecular Optimization with GFlowNets</td>\n",
       "      <td>100</td>\n",
       "      <td>This research focuses on developing a method for optimizing molecular structures with desired properties by considering multiple objectives and efficiently exploring the search space.</td>\n",
       "      <td>[molecular optimization, multi-objective optimization, hypernetworks, Bayesian optimization, sample efficiency]</td>\n",
       "      <td>7</td>\n",
       "    </tr>\n",
       "    <tr>\n",
       "      <th>3</th>\n",
       "      <td>Uncovering Neural Scaling Laws in Molecular Representation Learning</td>\n",
       "      <td>104</td>\n",
       "      <td>This paper explores the relationship between data quantity and quality on molecular representation learning (MRL) in drug and materials discovery, identifying scaling laws and potential avenues for improving learning efficiency.</td>\n",
       "      <td>[molecular representation learning, data quantity and quality, scaling laws, learning efficiency, drug and materials discovery]</td>\n",
       "      <td>7</td>\n",
       "    </tr>\n",
       "    <tr>\n",
       "      <th>4</th>\n",
       "      <td>ProteinShake: Building datasets and benchmarks for deep learning on protein structures</td>\n",
       "      <td>105</td>\n",
       "      <td>ProteinShake is a software package that simplifies dataset creation and evaluation for deep learning on protein structures, providing benchmarks and datasets to improve performance in biology-related tasks.</td>\n",
       "      <td>[ProteinShake, deep learning, dataset creation, protein structures, benchmark]</td>\n",
       "      <td>7</td>\n",
       "    </tr>\n",
       "  </tbody>\n",
       "</table>\n",
       "</div>\n",
       "    <div class=\"colab-df-buttons\">\n",
       "\n",
       "  <div class=\"colab-df-container\">\n",
       "    <button class=\"colab-df-convert\" onclick=\"convertToInteractive('df-adeae7b6-0485-446c-8dc5-e38499e96bf1')\"\n",
       "            title=\"Convert this dataframe to an interactive table.\"\n",
       "            style=\"display:none;\">\n",
       "\n",
       "  <svg xmlns=\"http://www.w3.org/2000/svg\" height=\"24px\" viewBox=\"0 -960 960 960\">\n",
       "    <path d=\"M120-120v-720h720v720H120Zm60-500h600v-160H180v160Zm220 220h160v-160H400v160Zm0 220h160v-160H400v160ZM180-400h160v-160H180v160Zm440 0h160v-160H620v160ZM180-180h160v-160H180v160Zm440 0h160v-160H620v160Z\"/>\n",
       "  </svg>\n",
       "    </button>\n",
       "\n",
       "  <style>\n",
       "    .colab-df-container {\n",
       "      display:flex;\n",
       "      gap: 12px;\n",
       "    }\n",
       "\n",
       "    .colab-df-convert {\n",
       "      background-color: #E8F0FE;\n",
       "      border: none;\n",
       "      border-radius: 50%;\n",
       "      cursor: pointer;\n",
       "      display: none;\n",
       "      fill: #1967D2;\n",
       "      height: 32px;\n",
       "      padding: 0 0 0 0;\n",
       "      width: 32px;\n",
       "    }\n",
       "\n",
       "    .colab-df-convert:hover {\n",
       "      background-color: #E2EBFA;\n",
       "      box-shadow: 0px 1px 2px rgba(60, 64, 67, 0.3), 0px 1px 3px 1px rgba(60, 64, 67, 0.15);\n",
       "      fill: #174EA6;\n",
       "    }\n",
       "\n",
       "    .colab-df-buttons div {\n",
       "      margin-bottom: 4px;\n",
       "    }\n",
       "\n",
       "    [theme=dark] .colab-df-convert {\n",
       "      background-color: #3B4455;\n",
       "      fill: #D2E3FC;\n",
       "    }\n",
       "\n",
       "    [theme=dark] .colab-df-convert:hover {\n",
       "      background-color: #434B5C;\n",
       "      box-shadow: 0px 1px 3px 1px rgba(0, 0, 0, 0.15);\n",
       "      filter: drop-shadow(0px 1px 2px rgba(0, 0, 0, 0.3));\n",
       "      fill: #FFFFFF;\n",
       "    }\n",
       "  </style>\n",
       "\n",
       "    <script>\n",
       "      const buttonEl =\n",
       "        document.querySelector('#df-adeae7b6-0485-446c-8dc5-e38499e96bf1 button.colab-df-convert');\n",
       "      buttonEl.style.display =\n",
       "        google.colab.kernel.accessAllowed ? 'block' : 'none';\n",
       "\n",
       "      async function convertToInteractive(key) {\n",
       "        const element = document.querySelector('#df-adeae7b6-0485-446c-8dc5-e38499e96bf1');\n",
       "        const dataTable =\n",
       "          await google.colab.kernel.invokeFunction('convertToInteractive',\n",
       "                                                    [key], {});\n",
       "        if (!dataTable) return;\n",
       "\n",
       "        const docLinkHtml = 'Like what you see? Visit the ' +\n",
       "          '<a target=\"_blank\" href=https://colab.research.google.com/notebooks/data_table.ipynb>data table notebook</a>'\n",
       "          + ' to learn more about interactive tables.';\n",
       "        element.innerHTML = '';\n",
       "        dataTable['output_type'] = 'display_data';\n",
       "        await google.colab.output.renderOutput(dataTable, element);\n",
       "        const docLink = document.createElement('div');\n",
       "        docLink.innerHTML = docLinkHtml;\n",
       "        element.appendChild(docLink);\n",
       "      }\n",
       "    </script>\n",
       "  </div>\n",
       "\n",
       "\n",
       "<div id=\"df-7ee9f814-ca8d-46b0-b145-cb7be14b4c31\">\n",
       "  <button class=\"colab-df-quickchart\" onclick=\"quickchart('df-7ee9f814-ca8d-46b0-b145-cb7be14b4c31')\"\n",
       "            title=\"Suggest charts\"\n",
       "            style=\"display:none;\">\n",
       "\n",
       "<svg xmlns=\"http://www.w3.org/2000/svg\" height=\"24px\"viewBox=\"0 0 24 24\"\n",
       "     width=\"24px\">\n",
       "    <g>\n",
       "        <path d=\"M19 3H5c-1.1 0-2 .9-2 2v14c0 1.1.9 2 2 2h14c1.1 0 2-.9 2-2V5c0-1.1-.9-2-2-2zM9 17H7v-7h2v7zm4 0h-2V7h2v10zm4 0h-2v-4h2v4z\"/>\n",
       "    </g>\n",
       "</svg>\n",
       "  </button>\n",
       "\n",
       "<style>\n",
       "  .colab-df-quickchart {\n",
       "      --bg-color: #E8F0FE;\n",
       "      --fill-color: #1967D2;\n",
       "      --hover-bg-color: #E2EBFA;\n",
       "      --hover-fill-color: #174EA6;\n",
       "      --disabled-fill-color: #AAA;\n",
       "      --disabled-bg-color: #DDD;\n",
       "  }\n",
       "\n",
       "  [theme=dark] .colab-df-quickchart {\n",
       "      --bg-color: #3B4455;\n",
       "      --fill-color: #D2E3FC;\n",
       "      --hover-bg-color: #434B5C;\n",
       "      --hover-fill-color: #FFFFFF;\n",
       "      --disabled-bg-color: #3B4455;\n",
       "      --disabled-fill-color: #666;\n",
       "  }\n",
       "\n",
       "  .colab-df-quickchart {\n",
       "    background-color: var(--bg-color);\n",
       "    border: none;\n",
       "    border-radius: 50%;\n",
       "    cursor: pointer;\n",
       "    display: none;\n",
       "    fill: var(--fill-color);\n",
       "    height: 32px;\n",
       "    padding: 0;\n",
       "    width: 32px;\n",
       "  }\n",
       "\n",
       "  .colab-df-quickchart:hover {\n",
       "    background-color: var(--hover-bg-color);\n",
       "    box-shadow: 0 1px 2px rgba(60, 64, 67, 0.3), 0 1px 3px 1px rgba(60, 64, 67, 0.15);\n",
       "    fill: var(--button-hover-fill-color);\n",
       "  }\n",
       "\n",
       "  .colab-df-quickchart-complete:disabled,\n",
       "  .colab-df-quickchart-complete:disabled:hover {\n",
       "    background-color: var(--disabled-bg-color);\n",
       "    fill: var(--disabled-fill-color);\n",
       "    box-shadow: none;\n",
       "  }\n",
       "\n",
       "  .colab-df-spinner {\n",
       "    border: 2px solid var(--fill-color);\n",
       "    border-color: transparent;\n",
       "    border-bottom-color: var(--fill-color);\n",
       "    animation:\n",
       "      spin 1s steps(1) infinite;\n",
       "  }\n",
       "\n",
       "  @keyframes spin {\n",
       "    0% {\n",
       "      border-color: transparent;\n",
       "      border-bottom-color: var(--fill-color);\n",
       "      border-left-color: var(--fill-color);\n",
       "    }\n",
       "    20% {\n",
       "      border-color: transparent;\n",
       "      border-left-color: var(--fill-color);\n",
       "      border-top-color: var(--fill-color);\n",
       "    }\n",
       "    30% {\n",
       "      border-color: transparent;\n",
       "      border-left-color: var(--fill-color);\n",
       "      border-top-color: var(--fill-color);\n",
       "      border-right-color: var(--fill-color);\n",
       "    }\n",
       "    40% {\n",
       "      border-color: transparent;\n",
       "      border-right-color: var(--fill-color);\n",
       "      border-top-color: var(--fill-color);\n",
       "    }\n",
       "    60% {\n",
       "      border-color: transparent;\n",
       "      border-right-color: var(--fill-color);\n",
       "    }\n",
       "    80% {\n",
       "      border-color: transparent;\n",
       "      border-right-color: var(--fill-color);\n",
       "      border-bottom-color: var(--fill-color);\n",
       "    }\n",
       "    90% {\n",
       "      border-color: transparent;\n",
       "      border-bottom-color: var(--fill-color);\n",
       "    }\n",
       "  }\n",
       "</style>\n",
       "\n",
       "  <script>\n",
       "    async function quickchart(key) {\n",
       "      const quickchartButtonEl =\n",
       "        document.querySelector('#' + key + ' button');\n",
       "      quickchartButtonEl.disabled = true;  // To prevent multiple clicks.\n",
       "      quickchartButtonEl.classList.add('colab-df-spinner');\n",
       "      try {\n",
       "        const charts = await google.colab.kernel.invokeFunction(\n",
       "            'suggestCharts', [key], {});\n",
       "      } catch (error) {\n",
       "        console.error('Error during call to suggestCharts:', error);\n",
       "      }\n",
       "      quickchartButtonEl.classList.remove('colab-df-spinner');\n",
       "      quickchartButtonEl.classList.add('colab-df-quickchart-complete');\n",
       "    }\n",
       "    (() => {\n",
       "      let quickchartButtonEl =\n",
       "        document.querySelector('#df-7ee9f814-ca8d-46b0-b145-cb7be14b4c31 button');\n",
       "      quickchartButtonEl.style.display =\n",
       "        google.colab.kernel.accessAllowed ? 'block' : 'none';\n",
       "    })();\n",
       "  </script>\n",
       "</div>\n",
       "\n",
       "    </div>\n",
       "  </div>\n"
      ]
     },
     "metadata": {},
     "execution_count": 54
    }
   ]
  },
  {
   "cell_type": "code",
   "source": [],
   "metadata": {
    "id": "7xVoQ0nqhvKc"
   },
   "execution_count": null,
   "outputs": []
  }
 ]
}
