{
  "cells": [
    {
      "cell_type": "markdown",
      "metadata": {
        "id": "WpXqIU1DmlQw"
      },
      "source": [
        "## 1. Dependency Management and Setup"
      ]
    },
    {
      "cell_type": "code",
      "execution_count": null,
      "metadata": {
        "id": "KgaJmFMq0431"
      },
      "outputs": [],
      "source": [
        "!pip install openai"
      ]
    },
    {
      "cell_type": "code",
      "execution_count": null,
      "metadata": {
        "id": "ULAibRih0zga",
        "ExecuteTime": {
          "end_time": "2023-12-14T15:37:18.511810Z",
          "start_time": "2023-12-14T15:37:18.071896Z"
        }
      },
      "outputs": [],
      "source": [
        "from bs4 import BeautifulSoup\n",
        "import requests\n",
        "import openai\n",
        "import pandas as pd\n",
        "from openai import OpenAI\n",
        "import json\n",
        "import os"
      ]
    },
    {
      "cell_type": "code",
      "execution_count": null,
      "metadata": {
        "id": "HSv-BxXE3bpt"
      },
      "outputs": [],
      "source": [
        "# Replace 'your_api_key_here' with your actual OpenAI API key\n",
        "os.environ['OPENAI_API_KEY'] = 'your_api_key_here'"
      ]
    },
    {
      "cell_type": "code",
      "execution_count": null,
      "metadata": {
        "id": "HIhKi5FlWx2R"
      },
      "outputs": [],
      "source": [
        "# Set max column width to None for no truncation\n",
        "pd.set_option('display.max_colwidth', None)\n",
        "\n",
        "# Set the total display width\n",
        "pd.set_option('display.width', None)"
      ]
    },
    {
      "cell_type": "markdown",
      "metadata": {
        "id": "IUFw5oeNnCHn"
      },
      "source": [
        "## 2. (Optional) File Handling and Web Scraping\n",
        "This part is used to parse HTML into CSV. Skip this step if you have \"session_5.csv\", or \"session_6.csv\" in the folder. If not, go to Neurips poster session page (e.g. [Poster session 5](https://nips.cc/virtual/2023/session/74073)), right click save to download the html page."
      ]
    },
    {
      "cell_type": "code",
      "execution_count": null,
      "metadata": {
        "id": "17oWATwi1qGP"
      },
      "outputs": [],
      "source": [
        "def open_file(path):\n",
        "  with open(path, 'r') as file:\n",
        "      return file.read()\n",
        "\n",
        "def get_titles(soup, posters):\n",
        "  h5_tag = soup.find_all('h5')\n",
        "  for i in range(1,len(h5_tag)):\n",
        "      this_tag = h5_tag[i]\n",
        "      title = this_tag.get_text(strip=True)\n",
        "      posters[i] = {}\n",
        "      posters[i][\"title\"] = title\n",
        "  return posters\n",
        "\n",
        "def get_abstract_and_position(soup, posters):\n",
        "  abstract_tags = soup.find_all(class_='abstract')\n",
        "  poster_position_tags = soup.find_all('div', title='Poster Position')\n",
        "\n",
        "  for j in range(len(abstract_tags)):\n",
        "      tag = abstract_tags[j]\n",
        "      abstract = tag.get_text(strip=True)\n",
        "      posters[j+1][\"abstract\"] = abstract\n",
        "      poster_position = poster_position_tags[j].get_text(strip=True)\n",
        "      posters[j + 1][\"poster_number\"] = poster_position[1:]\n",
        "  return posters\n",
        "\n",
        "def get_posters(path):\n",
        "  html_content = open_file(path)\n",
        "  soup = BeautifulSoup(html_content, 'lxml')\n",
        "  posters = {}\n",
        "  posters = get_titles(soup = soup, posters = posters)\n",
        "  posters = get_abstract_and_position(soup = soup, posters = posters)\n",
        "  return pd.DataFrame.from_dict(posters, orient='index')"
      ]
    },
    {
      "cell_type": "code",
      "execution_count": null,
      "metadata": {
        "id": "7Cn9893W1sd6"
      },
      "outputs": [],
      "source": [
        "path = \"/content/session_6.html\"\n",
        "df = get_posters(path).reset_index(drop=True)\n",
        "df.to_csv(\"session_6.csv\", index=False)"
      ]
    },
    {
      "cell_type": "markdown",
      "metadata": {
        "id": "5XoqQpRiqed1"
      },
      "source": [
        "## 3. Get summary, score and keywords from API"
      ]
    },
    {
      "cell_type": "code",
      "execution_count": null,
      "metadata": {
        "id": "-eLNotgmpiEf"
      },
      "outputs": [],
      "source": [
        "csv_path = \"/content/session_6.csv\"\n",
        "df = pd.read_csv(csv_path)\n",
        "posters = df.to_dict(orient='index')"
      ]
    },
    {
      "cell_type": "code",
      "source": [
        "df.head()"
      ],
      "metadata": {
        "id": "4ndkSW83_kW0"
      },
      "execution_count": null,
      "outputs": []
    },
    {
      "cell_type": "markdown",
      "metadata": {
        "id": "rZhPC8nHsYxi"
      },
      "source": [
        "### Modify the following prompt according to your interests\n",
        "This will be used to evaluate whether a paper is relevant to your interest area or not. The response also contains a relecancy score from 0 to 10, 0 means not relevant at all, 10 means very relevant."
      ]
    },
    {
      "cell_type": "code",
      "execution_count": null,
      "metadata": {
        "id": "lD_hFW95sN0f"
      },
      "outputs": [],
      "source": [
        "interests_prompt = \"keyword 1, keyword 2, keyword 3...\""
      ]
    },
    {
      "cell_type": "code",
      "execution_count": null,
      "metadata": {
        "id": "IxPe2SVi2mUf"
      },
      "outputs": [],
      "source": [
        "# Keep the format prompt, no change needed\n",
        "format_prompt = \"\"\"Follow the instructions as precisely as possible. Every time you receive input in this json format: {{\"title\": \"Awesome paper title\", \"abstract\": \"Awesome paper abstract text\"}}I want you to provide summary, keywords and score following json format in plain text. Never provide additional context. {{\"summary\": \"This is one sentence summary about this paper explained in simple words.\",\"keywords\": [\"keyword1\", \"keyword2\", \"keyword3\", ..., \"keywordn\"],\"score\": 10}}\"\"\"\n",
        "\n",
        "client = OpenAI()\n",
        "def api_call(client, title, description):\n",
        "  completion = client.chat.completions.create(\n",
        "    model=\"gpt-3.5-turbo\",\n",
        "    messages=[\n",
        "      {\"role\": \"system\", \"content\": \"As a machine learning expert, your task is to distill key information from NeuRIPS 2023 poster sessions for students. For each poster: Craft a one-sentence summary that encapsulates the primary research focus using simple, easy-to-understand words. If it's related to any specific domain knowledge, explain in simple terms but keep concise. Identify five pertinent keywords associated with the research. Assign a score between 1 to 10, reflecting how well the research aligns with the student's interests in \" + interests_prompt + \". A score of 10 denotes high relevance and exceptional quality, whereas a score of 1 indicates minimal relevance which has none or little overlapping with student's insterests. Adopt a critical and discerning approach when assigning scores; avoid indiscriminately high ratings. Only rate 10 when a paper covers every interest. The evaluation should guide students towards posters that are most relevant to their specified interests, aiding in their academic pursuits.\"},\n",
        "      {\"role\": \"user\", \"content\": \"Poster's title: \"+ title + \"Abstract: \"+ description + \" \" + format_prompt}\n",
        "    ]\n",
        "  )\n",
        "  return completion.choices[0].message.content"
      ]
    },
    {
      "cell_type": "code",
      "execution_count": null,
      "metadata": {
        "id": "zgPAEbEn9G2m"
      },
      "outputs": [],
      "source": [
        "def validate_and_return_json(s):\n",
        "    try:\n",
        "        data = json.loads(s)\n",
        "    except json.JSONDecodeError:\n",
        "        return False\n",
        "\n",
        "    if not all(key in data for key in [\"summary\", \"keywords\", \"score\"]):\n",
        "        return False\n",
        "\n",
        "    if not isinstance(data[\"summary\"], str):\n",
        "        return False\n",
        "\n",
        "    if not (isinstance(data[\"keywords\"], list) and all(isinstance(k, str) for k in data[\"keywords\"])):\n",
        "        return False\n",
        "\n",
        "    if not isinstance(data[\"score\"], int):\n",
        "        return False\n",
        "\n",
        "    return json.dumps(data)"
      ]
    },
    {
      "cell_type": "code",
      "execution_count": null,
      "metadata": {
        "id": "1dO_3U7UA2Cs"
      },
      "outputs": [],
      "source": [
        "def validated_api_call(client, title, abstract):\n",
        "    max_attempts = 3\n",
        "    for attempt in range(max_attempts):\n",
        "        try:\n",
        "            response = api_call(client, title, abstract)\n",
        "            validation_result = validate_and_return_json(response)\n",
        "            if validation_result:\n",
        "                validated_data = json.loads(validation_result)\n",
        "                return validated_data[\"summary\"], validated_data[\"keywords\"], validated_data[\"score\"]\n",
        "        except Exception as e:\n",
        "            print(f\"An error occurred: {e}\")\n",
        "    return None"
      ]
    },
    {
      "cell_type": "code",
      "execution_count": null,
      "metadata": {
        "id": "aRqVIRsf2jsO"
      },
      "outputs": [],
      "source": [
        "annotated_posters={}\n",
        "i = 0\n",
        "while i <= (len(posters)-1):\n",
        "    title = posters[i]['title']\n",
        "    position = posters[i]['poster_number']\n",
        "    abstract = posters[i][\"abstract\"]\n",
        "    response = validated_api_call(client, title, abstract)\n",
        "    posters[i]['summary'] = response\n",
        "    annotated_posters[i] = {}\n",
        "    annotated_posters[i][\"title\"] = title\n",
        "    annotated_posters[i][\"poster_number\"] = position\n",
        "    annotated_posters[i][\"abstract\"] = abstract\n",
        "    if response:\n",
        "      annotated_posters[i][\"summary\"] = response[0]\n",
        "      annotated_posters[i][\"keywords\"] = response[1]\n",
        "      annotated_posters[i][\"score\"] = response[2]\n",
        "    else:\n",
        "      annotated_posters[i][\"summary\"] = None\n",
        "      annotated_posters[i][\"keywords\"] = []\n",
        "      annotated_posters[i][\"score\"] = None\n",
        "    print(posters[i])\n",
        "    i += 1"
      ]
    },
    {
      "cell_type": "code",
      "execution_count": null,
      "metadata": {
        "id": "g8xvAJgBG8ax"
      },
      "outputs": [],
      "source": [
        "df_annotated = pd.DataFrame.from_dict(annotated_posters, orient='index').sort_index()"
      ]
    },
    {
      "cell_type": "code",
      "source": [
        "df_annotated.head()"
      ],
      "metadata": {
        "id": "_qi143mzAhGB"
      },
      "execution_count": null,
      "outputs": []
    },
    {
      "cell_type": "code",
      "execution_count": null,
      "metadata": {
        "id": "Vq7aud6PJy6c"
      },
      "outputs": [],
      "source": [
        "df_annotated.to_csv(\"annotated_posters.csv\")"
      ]
    },
    {
      "cell_type": "markdown",
      "metadata": {
        "id": "Gb3DmOcNuOGc"
      },
      "source": [
        "## 4. Review relevant papers"
      ]
    },
    {
      "cell_type": "code",
      "execution_count": null,
      "metadata": {
        "id": "MyEzqiKKwxsm"
      },
      "outputs": [],
      "source": [
        "def get_ranked_papers(df, threshold):\n",
        "  df_annotated_noab = df[['title','poster_number','summary','keywords','score']].dropna(subset=['score'])\n",
        "  df_annotated_noab['score'] = df_annotated_noab['score'].astype('int')\n",
        "  df_annotated_noab_high = df_annotated_noab[df_annotated_noab['score'] >= threshold]\n",
        "  df_annotated_noab_high = df_annotated_noab_high.sort_values(by=['score'], ascending=False)\n",
        "  return df_annotated_noab_high"
      ]
    },
    {
      "cell_type": "code",
      "execution_count": null,
      "metadata": {
        "id": "thQjIAn6WWo2"
      },
      "outputs": [],
      "source": [
        "# Modify the threshold to filter the papers\n",
        "threshold = 9\n",
        "df_ranked = get_ranked_papers(df_annotated, threshold)\n",
        "df_ranked.head()"
      ]
    },
    {
      "cell_type": "code",
      "execution_count": null,
      "metadata": {
        "id": "7xVoQ0nqhvKc"
      },
      "outputs": [],
      "source": []
    }
  ],
  "metadata": {
    "colab": {
      "provenance": []
    },
    "kernelspec": {
      "name": "python3",
      "language": "python",
      "display_name": "Python 3 (ipykernel)"
    },
    "language_info": {
      "name": "python"
    }
  },
  "nbformat": 4,
  "nbformat_minor": 0
}